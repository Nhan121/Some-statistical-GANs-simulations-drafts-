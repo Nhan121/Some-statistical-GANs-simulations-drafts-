{
 "cells": [
  {
   "cell_type": "markdown",
   "metadata": {},
   "source": [
    "**Introduction.**\n",
    "\n",
    "The `Earth-Move, (EM)` distance or `Wasserstein_1` distance, between the distributions $p, q$ is defined as\n",
    "$$ d_W(p, q) = \\inf_{\\tau \\in J(p, q)} \\mathbb{E}_{(X, Y) \\sim \\tau} \\Vert X - Y \\Vert. $$\n",
    "where $J(p, q)$ is the set of (probability) distributions $\\tau(x, y)$ whose marginals are respectively $p, q.$\n",
    "\n",
    "In case the 1D-distributions, then the previous formula becomes\n",
    "$$ d_W(p, q) = \\inf_{\\tau \\in J(p, q)} \\mathbb{E}_{(X, Y) \\sim \\tau} \\vert X - Y \\vert. $$\n",
    "\n",
    "Intuitively, the terms $\\tau(x, y)$ indicates how much *`mass`* must be transported from $x$ to $y$ in order to transform the distribution $p$ to $q$. So, this distance is also knowns as the `EM`distance since it can be seen as the minimum amount of `“work”` required to transform $p$ into $q$; where the `“work”` is measured as the amount of distribution weight that must be moved, multiplied by the distance it has to be moved.\n",
    "\n",
    "Recall that, we defined $W_K$ distance as\n",
    "$$ d_{W_K}(\\mu, \\nu) = \\left( \\inf_{\\tau \\in J(p, q)} \\mathbb{E}_{(X, Y) \\sim \\tau} \\Vert X - Y \\Vert^K \\right)^{1/K}. $$"
   ]
  },
  {
   "cell_type": "code",
   "execution_count": 1,
   "metadata": {},
   "outputs": [],
   "source": [
    "from scipy.stats import wasserstein_distance as ssw\n",
    "import numpy as np\n",
    "import matplotlib.pyplot as plt"
   ]
  },
  {
   "cell_type": "markdown",
   "metadata": {},
   "source": [
    "**Example 1.** Use the function `wasserstein_distance` in `scipy.stats` to `approximate` the EM distance between 2 *independent* `uniform distributions`, such as $U([1, 2])$ and $U([0, 1])$.\n",
    "\n",
    "*Note that this function only using for calculating the distance of 1D distributions.*\n",
    "Reference: https://docs.scipy.org/doc/scipy/reference/generated/scipy.stats.wasserstein_distance.html#scipy.stats.wasserstein_distance"
   ]
  },
  {
   "cell_type": "code",
   "execution_count": 2,
   "metadata": {},
   "outputs": [
    {
     "data": {
      "text/plain": [
       "0.9953392439128976"
      ]
     },
     "execution_count": 2,
     "metadata": {},
     "output_type": "execute_result"
    }
   ],
   "source": [
    "# Fix the range of values\n",
    "x = np.linspace(-5, 5, 10)\n",
    "\n",
    "# Generate the empirical distribution values of the 2 uniform distributions\n",
    "p = np.random.uniform(1, 2, 1000)\n",
    "q = np.random.uniform(0, 1, 1000)\n",
    "\n",
    "# Approximate the W1_distance\n",
    "ssw(p, q)"
   ]
  },
  {
   "cell_type": "markdown",
   "metadata": {},
   "source": [
    "**Explain EX1.** There is only one possible coupling of these two measures, that is $\\tau(x, y) \\sim U([0, 1] \\times [1, 2])$ and hence we get\n",
    "$$d_W(p, q) = \\int_0^1 \\int_1^2 |x - y| dy dx = 1.$$"
   ]
  },
  {
   "cell_type": "markdown",
   "metadata": {},
   "source": [
    "**Example 2.** Now, we will work now with `discrete uniform distributions` in 2D space (instead of 1D space as above). Let $Z \\sim U([0, 1]), p$ be the distribution of $(0, Z)$ and $q$ be the distribution of $(\\eta, Z).$\n",
    "\n",
    "This is easy to check that the EM distance  between them is equal to $\\vert \\eta \\vert$.\n",
    "\n",
    "First, look at the illustration bellow, $p, q$ are uniform on the straight vertical line passing the origin and the point $\\theta$ respectively."
   ]
  },
  {
   "cell_type": "code",
   "execution_count": 3,
   "metadata": {},
   "outputs": [
    {
     "data": {
      "image/png": "[encoded data removed]",
      "text/plain": [
       "<Figure size 432x216 with 1 Axes>"
      ]
     },
     "metadata": {
      "needs_background": "light"
     },
     "output_type": "display_data"
    }
   ],
   "source": [
    "np.random.seed(42)\n",
    "eta = 0.5\n",
    "n_points = 5\n",
    "\n",
    "Z = np.random.uniform(0,1, n_points)\n",
    "p = np.array([[0, z] for z in Z ])\n",
    "q = np.array([[eta, z] for z in Z ])\n",
    "\n",
    "plt.figure(figsize=(6, 3))\n",
    "plt.scatter(p[:, 0], p[:, 1], label='$p$')\n",
    "plt.scatter(q[:, 0], q[:, 1], label='$q$')\n",
    "plt.xlabel('$\\eta = $' + str(eta))\n",
    "plt.legend(loc = 'upper right');\n",
    "plt.axis([-0.05, 1, 0, 1])\n",
    "plt.show()"
   ]
  },
  {
   "cell_type": "markdown",
   "metadata": {},
   "source": [
    "Now we will approximate this distance by the empirical distribution."
   ]
  },
  {
   "cell_type": "code",
   "execution_count": 4,
   "metadata": {},
   "outputs": [
    {
     "name": "stdout",
     "output_type": "stream",
     "text": [
      "0.5\n"
     ]
    }
   ],
   "source": [
    "p = np.array([[0, z] for z in Z ])\n",
    "q = np.array([[eta, z] for z in Z ])\n",
    "\n",
    "# calculate the distance for 2D distributions\n",
    "from scipy.spatial.distance import cdist\n",
    "from scipy.optimize import linear_sum_assignment\n",
    "d = cdist(p, q)\n",
    "assignment = linear_sum_assignment(d)\n",
    "print(d[assignment].sum() / n_points)"
   ]
  },
  {
   "cell_type": "markdown",
   "metadata": {},
   "source": [
    "Next, I take $\\theta \\in [-1, 1]$"
   ]
  },
  {
   "cell_type": "code",
   "execution_count": 5,
   "metadata": {},
   "outputs": [
    {
     "data": {
      "text/plain": [
       "[<matplotlib.lines.Line2D at 0x1d8a2863888>]"
      ]
     },
     "execution_count": 5,
     "metadata": {},
     "output_type": "execute_result"
    },
    {
     "data": {
      "image/png": "[encoded data removed]",
      "text/plain": [
       "<Figure size 432x288 with 1 Axes>"
      ]
     },
     "metadata": {
      "needs_background": "light"
     },
     "output_type": "display_data"
    }
   ],
   "source": [
    "Theta = [-1, -0.2, 0, 0.25, 1]\n",
    "n_points = 500\n",
    "D_Theta = []\n",
    "for theta in Theta:\n",
    "    Z = np.random.uniform(0,1, n_points)\n",
    "    p = np.array([[0, z] for z in Z ])\n",
    "    q = np.array([[theta, z] for z in Z ])\n",
    "    d = cdist(p, q)\n",
    "    d_theta = d[linear_sum_assignment(d)].sum() / n_points\n",
    "    D_Theta.append(d_theta)\n",
    "\n",
    "plt.plot(Theta, D_Theta)"
   ]
  },
  {
   "cell_type": "markdown",
   "metadata": {},
   "source": [
    "**A simple example in `W-GAN`**"
   ]
  },
  {
   "cell_type": "code",
   "execution_count": 6,
   "metadata": {},
   "outputs": [],
   "source": [
    "import torch\n",
    "import time\n",
    "import torch.nn\n",
    "import torch.nn.functional as nn\n",
    "import torch.autograd as autograd\n",
    "import torch.optim as optim\n",
    "import matplotlib.gridspec as gridspec\n",
    "import os\n",
    "from torch.autograd import Variable\n",
    "from tensorflow.examples.tutorials.mnist import input_data\n",
    "import tensorflow as tf"
   ]
  },
  {
   "cell_type": "code",
   "execution_count": 7,
   "metadata": {},
   "outputs": [
    {
     "name": "stdout",
     "output_type": "stream",
     "text": [
      "8\n"
     ]
    },
    {
     "data": {
      "text/plain": [
       "<matplotlib.image.AxesImage at 0x1d8aed994c8>"
      ]
     },
     "execution_count": 7,
     "metadata": {},
     "output_type": "execute_result"
    },
    {
     "data": {
      "image/png": "[encoded data removed]",
      "text/plain": [
       "<Figure size 432x288 with 1 Axes>"
      ]
     },
     "metadata": {
      "needs_background": "light"
     },
     "output_type": "display_data"
    }
   ],
   "source": [
    "(x_train, y_train), (x_test, y_test) = tf.keras.datasets.mnist.load_data()\n",
    "image_index = 7777 # You may select anything up to 60,000\n",
    "print(y_train[image_index]) # The label is 8\n",
    "plt.imshow(x_train[image_index], cmap='Greys')"
   ]
  },
  {
   "cell_type": "code",
   "execution_count": 8,
   "metadata": {},
   "outputs": [
    {
     "data": {
      "text/plain": [
       "array([0, 1, 2, 3, 4, 5, 6, 7, 8, 9], dtype=uint8)"
      ]
     },
     "execution_count": 8,
     "metadata": {},
     "output_type": "execute_result"
    }
   ],
   "source": [
    "np.unique(y_train)"
   ]
  },
  {
   "cell_type": "code",
   "execution_count": 9,
   "metadata": {},
   "outputs": [
    {
     "name": "stderr",
     "output_type": "stream",
     "text": [
      "Using TensorFlow backend.\n"
     ]
    }
   ],
   "source": [
    "# example of a wgan for generating handwritten digits\n",
    "from numpy import expand_dims\n",
    "from numpy import mean\n",
    "from numpy import ones\n",
    "from numpy.random import randn\n",
    "from numpy.random import randint\n",
    "from keras.datasets.mnist import load_data\n",
    "from keras import backend\n",
    "from keras.optimizers import RMSprop\n",
    "from keras.models import Sequential\n",
    "from keras.layers import Dense\n",
    "from keras.layers import Reshape\n",
    "from keras.layers import Flatten\n",
    "from keras.layers import Conv2D\n",
    "from keras.layers import Conv2DTranspose\n",
    "from keras.layers import LeakyReLU\n",
    "from keras.layers import BatchNormalization\n",
    "from keras.initializers import RandomNormal\n",
    "from keras.constraints import Constraint\n",
    "from matplotlib import pyplot"
   ]
  },
  {
   "cell_type": "code",
   "execution_count": 10,
   "metadata": {},
   "outputs": [],
   "source": [
    "mb_size = 32\n",
    "z_dim = 10\n",
    "h_dim = 128\n",
    "cnt = 0\n",
    "lr = 1e-4"
   ]
  },
  {
   "cell_type": "code",
   "execution_count": 11,
   "metadata": {},
   "outputs": [],
   "source": [
    "# clip model weights to a given hypercube\n",
    "class ClipConstraint(Constraint):\n",
    "    # set clip value when initialized\n",
    "    def __init__(self, clip_value):\n",
    "        self.clip_value = clip_value\n",
    "\n",
    "    # clip model weights to hypercube\n",
    "    def __call__(self, weights):\n",
    "        return backend.clip(weights, -self.clip_value, self.clip_value)\n",
    "\n",
    "    # get the config\n",
    "    def get_config(self):\n",
    "        return {'clip_value': self.clip_value}"
   ]
  },
  {
   "cell_type": "code",
   "execution_count": 12,
   "metadata": {},
   "outputs": [],
   "source": [
    "# calculate wasserstein loss\n",
    "def wasserstein_loss(y_true, y_pred):\n",
    "    return backend.mean(y_true * y_pred)"
   ]
  },
  {
   "cell_type": "code",
   "execution_count": 13,
   "metadata": {},
   "outputs": [],
   "source": [
    "# define the standalone critic model\n",
    "def define_critic(in_shape=(28,28,1)):\n",
    "    \n",
    "    # weight initialization\n",
    "    init = RandomNormal(stddev=0.02)\n",
    "    \n",
    "    # weight constraint\n",
    "    const = ClipConstraint(0.01)\n",
    "    \n",
    "    # define model\n",
    "    model = Sequential()\n",
    "    \n",
    "    # downsample to 14x14\n",
    "    model.add(Conv2D(64, (4,4), strides=(2,2), padding='same', \n",
    "                     kernel_initializer=init, kernel_constraint=const, \n",
    "                     input_shape=in_shape))\n",
    "    model.add(BatchNormalization())\n",
    "    model.add(LeakyReLU(alpha=0.2))\n",
    "    \n",
    "    # downsample to 7x7\n",
    "    model.add(Conv2D(64, (4,4), strides=(2,2), padding='same', \n",
    "                     kernel_initializer=init, kernel_constraint=const))\n",
    "    model.add(BatchNormalization())\n",
    "    model.add(LeakyReLU(alpha=0.2))\n",
    "    \n",
    "    # scoring, linear activation\n",
    "    model.add(Flatten())\n",
    "    model.add(Dense(1))\n",
    "    \n",
    "    # compile model\n",
    "    opt = RMSprop(lr=0.00005)\n",
    "    model.compile(loss=wasserstein_loss, optimizer=opt)\n",
    "    \n",
    "    return model"
   ]
  },
  {
   "cell_type": "code",
   "execution_count": 14,
   "metadata": {},
   "outputs": [],
   "source": [
    "# define the standalone generator model\n",
    "def define_generator(latent_dim):\n",
    "    # weight initialization\n",
    "    init = RandomNormal(stddev=0.02)\n",
    "    \n",
    "    # define model\n",
    "    model = Sequential()\n",
    "    # foundation for 7x7 image\n",
    "    n_nodes = 128 * 7 * 7\n",
    "    model.add(Dense(n_nodes, kernel_initializer=init, \n",
    "                    input_dim=latent_dim))\n",
    "    model.add(LeakyReLU(alpha=0.2))\n",
    "    model.add(Reshape((7, 7, 128)))\n",
    "    \n",
    "    # upsample to 14x14\n",
    "    model.add(Conv2DTranspose(128, (4,4), strides=(2,2), \n",
    "                              padding='same', kernel_initializer=init))\n",
    "    model.add(BatchNormalization())\n",
    "    model.add(LeakyReLU(alpha=0.2))\n",
    "    \n",
    "    # upsample to 28x28\n",
    "    model.add(Conv2DTranspose(128, (4,4), strides=(2,2), \n",
    "                              padding='same', kernel_initializer=init))\n",
    "    model.add(BatchNormalization())\n",
    "    model.add(LeakyReLU(alpha=0.2))\n",
    "    \n",
    "    # output 28x28x1\n",
    "    model.add(Conv2D(1, (7,7), activation='tanh', \n",
    "                     padding='same', kernel_initializer=init))\n",
    "    return model"
   ]
  },
  {
   "cell_type": "code",
   "execution_count": 15,
   "metadata": {},
   "outputs": [],
   "source": [
    "# define the combined generator and critic model, for updating the generator\n",
    "def define_gan(generator, critic):\n",
    "    \n",
    "    # make weights in the critic not trainable\n",
    "    critic.trainable = False\n",
    "    \n",
    "    # connect them\n",
    "    model = Sequential()\n",
    "    \n",
    "    # add generator\n",
    "    model.add(generator)\n",
    "    \n",
    "    # add the critic\n",
    "    model.add(critic)\n",
    "    \n",
    "    # compile model\n",
    "    opt = RMSprop(lr=0.00005)\n",
    "    model.compile(loss=wasserstein_loss, optimizer=opt)\n",
    "    \n",
    "    return model"
   ]
  },
  {
   "cell_type": "code",
   "execution_count": 16,
   "metadata": {},
   "outputs": [],
   "source": [
    "# load images\n",
    "def load_real_samples():\n",
    "    # load dataset\n",
    "    (trainX, trainy), (_, _) = load_data()\n",
    "    # select all of the examples for a given class\n",
    "    selected_ix = trainy == 7\n",
    "    X = trainX[selected_ix]\n",
    "    # expand to 3d, e.g. add channels\n",
    "    X = expand_dims(X, axis=-1)\n",
    "    # convert from ints to floats\n",
    "    X = X.astype('float32')\n",
    "    # scale from [0,255] to [-1,1]\n",
    "    X = (X - 127.5) / 127.5\n",
    "    return X"
   ]
  },
  {
   "cell_type": "code",
   "execution_count": 17,
   "metadata": {},
   "outputs": [],
   "source": [
    "# select real samples\n",
    "def generate_real_samples(dataset, n_samples):\n",
    "    # choose random instances\n",
    "    ix = randint(0, dataset.shape[0], n_samples)\n",
    "    # select images\n",
    "    X = dataset[ix]\n",
    "    # generate class labels, -1 for 'real'\n",
    "    y = -ones((n_samples, 1))\n",
    "    return X, y"
   ]
  },
  {
   "cell_type": "code",
   "execution_count": 18,
   "metadata": {},
   "outputs": [],
   "source": [
    "# generate points in latent space as input for the generator\n",
    "def generate_latent_points(latent_dim, n_samples):\n",
    "    \n",
    "    # generate points in the latent space\n",
    "    x_input = randn(latent_dim * n_samples)\n",
    "    \n",
    "    # reshape into a batch of inputs for the network\n",
    "    x_input = x_input.reshape(n_samples, latent_dim)\n",
    "    \n",
    "    return x_input\n",
    "\n",
    "# use the generator to generate n fake examples, with class labels\n",
    "def generate_fake_samples(generator, latent_dim, n_samples):\n",
    "    \n",
    "    # generate points in latent space\n",
    "    x_input = generate_latent_points(latent_dim, n_samples)\n",
    "    \n",
    "    # predict outputs\n",
    "    X = generator.predict(x_input)\n",
    "    \n",
    "    # create class labels with 1.0 for 'fake'\n",
    "    y = ones((n_samples, 1))\n",
    "    \n",
    "    return X, y\n",
    "\n",
    "# generate samples and save as a plot and save the model\n",
    "def summarize_performance(step, g_model, latent_dim, n_samples=100):\n",
    "    \n",
    "    # prepare fake examples\n",
    "    X, _ = generate_fake_samples(g_model, latent_dim, n_samples)\n",
    "    \n",
    "    # scale from [-1,1] to [0,1]\n",
    "    X = (X + 1) / 2.0\n",
    "    \n",
    "    # plot images\n",
    "    for i in range(10 * 10):\n",
    "        \n",
    "        # define subplot\n",
    "        pyplot.subplot(10, 10, 1 + i)\n",
    "        \n",
    "        # turn off axis\n",
    "        pyplot.axis('off')\n",
    "        \n",
    "        # plot raw pixel data\n",
    "        pyplot.imshow(X[i, :, :, 0], cmap='gray_r')\n",
    "    \n",
    "    # save plot to file\n",
    "    filename1 = 'generated_plot_%04d.png' % (step+1)\n",
    "    pyplot.savefig(filename1)\n",
    "    pyplot.close()\n",
    "    \n",
    "    # save the generator model\n",
    "    filename2 = 'model_%04d.h5' % (step+1)\n",
    "    g_model.save(filename2)\n",
    "\n",
    "    print('>Saved: %s and %s' % (filename1, filename2))"
   ]
  },
  {
   "cell_type": "code",
   "execution_count": 19,
   "metadata": {},
   "outputs": [],
   "source": [
    "# create a line plot of loss for the gan and save to file\n",
    "\n",
    "def plot_history(d1_hist, d2_hist, g_hist):\n",
    "\n",
    "    # plot history\n",
    "    pyplot.plot(d1_hist, label='crit_real')\n",
    "    pyplot.plot(d2_hist, label='crit_fake')\n",
    "    pyplot.plot(g_hist, label='gen')\n",
    "    pyplot.legend()\n",
    "    pyplot.savefig('plot_line_plot_loss.png')\n",
    "    pyplot.close()"
   ]
  },
  {
   "cell_type": "code",
   "execution_count": 20,
   "metadata": {},
   "outputs": [
    {
     "name": "stdout",
     "output_type": "stream",
     "text": [
      "WARNING:tensorflow:From C:\\Users\\Administrator\\AppData\\Local\\conda\\conda\\envs\\evNhan\\lib\\site-packages\\keras\\backend\\tensorflow_backend.py:74: The name tf.get_default_graph is deprecated. Please use tf.compat.v1.get_default_graph instead.\n",
      "\n",
      "WARNING:tensorflow:From C:\\Users\\Administrator\\AppData\\Local\\conda\\conda\\envs\\evNhan\\lib\\site-packages\\keras\\backend\\tensorflow_backend.py:517: The name tf.placeholder is deprecated. Please use tf.compat.v1.placeholder instead.\n",
      "\n",
      "WARNING:tensorflow:From C:\\Users\\Administrator\\AppData\\Local\\conda\\conda\\envs\\evNhan\\lib\\site-packages\\keras\\backend\\tensorflow_backend.py:4115: The name tf.random_normal is deprecated. Please use tf.random.normal instead.\n",
      "\n",
      "WARNING:tensorflow:From C:\\Users\\Administrator\\AppData\\Local\\conda\\conda\\envs\\evNhan\\lib\\site-packages\\keras\\backend\\tensorflow_backend.py:174: The name tf.get_default_session is deprecated. Please use tf.compat.v1.get_default_session instead.\n",
      "\n",
      "WARNING:tensorflow:From C:\\Users\\Administrator\\AppData\\Local\\conda\\conda\\envs\\evNhan\\lib\\site-packages\\keras\\backend\\tensorflow_backend.py:181: The name tf.ConfigProto is deprecated. Please use tf.compat.v1.ConfigProto instead.\n",
      "\n",
      "WARNING:tensorflow:From C:\\Users\\Administrator\\AppData\\Local\\conda\\conda\\envs\\evNhan\\lib\\site-packages\\keras\\backend\\tensorflow_backend.py:1834: The name tf.nn.fused_batch_norm is deprecated. Please use tf.compat.v1.nn.fused_batch_norm instead.\n",
      "\n",
      "WARNING:tensorflow:From C:\\Users\\Administrator\\AppData\\Local\\conda\\conda\\envs\\evNhan\\lib\\site-packages\\keras\\optimizers.py:790: The name tf.train.Optimizer is deprecated. Please use tf.compat.v1.train.Optimizer instead.\n",
      "\n",
      "(6265, 28, 28, 1)\n"
     ]
    },
    {
     "name": "stderr",
     "output_type": "stream",
     "text": [
      "C:\\Users\\Administrator\\AppData\\Local\\conda\\conda\\envs\\evNhan\\lib\\site-packages\\keras\\engine\\training.py:490: UserWarning: Discrepancy between trainable weights and collected trainable weights, did you set `model.trainable` without calling `model.compile` after ?\n",
      "  'Discrepancy between trainable weights and collected trainable'\n",
      "C:\\Users\\Administrator\\AppData\\Local\\conda\\conda\\envs\\evNhan\\lib\\site-packages\\keras\\engine\\training.py:490: UserWarning: Discrepancy between trainable weights and collected trainable weights, did you set `model.trainable` without calling `model.compile` after ?\n",
      "  'Discrepancy between trainable weights and collected trainable'\n"
     ]
    },
    {
     "name": "stdout",
     "output_type": "stream",
     "text": [
      ">1, c1=-2.222, c2=-0.004 g=0.219\n"
     ]
    },
    {
     "name": "stderr",
     "output_type": "stream",
     "text": [
      "C:\\Users\\Administrator\\AppData\\Local\\conda\\conda\\envs\\evNhan\\lib\\site-packages\\keras\\engine\\training.py:490: UserWarning: Discrepancy between trainable weights and collected trainable weights, did you set `model.trainable` without calling `model.compile` after ?\n",
      "  'Discrepancy between trainable weights and collected trainable'\n"
     ]
    },
    {
     "name": "stdout",
     "output_type": "stream",
     "text": [
      ">2, c1=-6.690, c2=0.423 g=0.500\n",
      ">3, c1=-9.380, c2=-0.001 g=0.545\n",
      ">4, c1=-11.249, c2=0.219 g=0.313\n",
      ">5, c1=-12.907, c2=0.036 g=0.187\n",
      ">6, c1=-14.252, c2=0.239 g=-0.260\n",
      ">7, c1=-15.032, c2=0.664 g=-0.579\n",
      ">8, c1=-16.234, c2=0.942 g=-1.154\n",
      ">9, c1=-16.973, c2=0.901 g=-1.473\n",
      ">10, c1=-17.538, c2=0.929 g=-2.304\n",
      ">11, c1=-18.314, c2=1.304 g=-2.787\n",
      ">12, c1=-19.038, c2=1.386 g=-3.693\n",
      ">13, c1=-19.231, c2=1.435 g=-3.943\n",
      ">14, c1=-20.057, c2=1.471 g=-4.606\n",
      ">15, c1=-20.111, c2=1.228 g=-4.594\n",
      ">16, c1=-19.828, c2=1.314 g=-4.679\n",
      ">17, c1=-20.549, c2=1.043 g=-4.521\n",
      ">18, c1=-20.227, c2=0.924 g=-4.061\n",
      ">19, c1=-20.247, c2=0.896 g=-3.595\n",
      ">20, c1=-20.405, c2=0.182 g=-3.019\n",
      ">21, c1=-20.674, c2=-0.210 g=-2.149\n",
      ">22, c1=-20.543, c2=-0.260 g=-1.286\n",
      ">23, c1=-20.894, c2=-0.894 g=-0.910\n",
      ">24, c1=-20.347, c2=-1.082 g=0.393\n",
      ">25, c1=-20.777, c2=-1.638 g=0.792\n",
      ">26, c1=-20.749, c2=-1.959 g=1.340\n",
      ">27, c1=-20.192, c2=-1.841 g=1.448\n",
      ">28, c1=-21.154, c2=-2.132 g=1.761\n",
      ">29, c1=-21.298, c2=-2.630 g=1.993\n",
      ">30, c1=-21.668, c2=-2.773 g=2.363\n",
      ">31, c1=-20.611, c2=-3.102 g=1.923\n",
      ">32, c1=-21.333, c2=-3.241 g=2.057\n",
      ">33, c1=-20.961, c2=-3.328 g=1.339\n",
      ">34, c1=-22.081, c2=-3.761 g=1.305\n",
      ">35, c1=-21.623, c2=-3.437 g=1.081\n",
      ">36, c1=-21.723, c2=-4.142 g=1.459\n",
      ">37, c1=-21.469, c2=-4.075 g=1.599\n",
      ">38, c1=-21.973, c2=-4.855 g=1.750\n",
      ">39, c1=-22.882, c2=-5.230 g=2.214\n",
      ">40, c1=-21.280, c2=-4.514 g=2.635\n",
      ">41, c1=-22.264, c2=-4.655 g=2.902\n",
      ">42, c1=-22.611, c2=-6.174 g=3.108\n",
      ">43, c1=-22.307, c2=-4.951 g=3.262\n",
      ">44, c1=-22.972, c2=-6.110 g=3.006\n",
      ">45, c1=-22.477, c2=-6.731 g=3.687\n",
      ">46, c1=-22.161, c2=-6.466 g=3.594\n",
      ">47, c1=-22.565, c2=-6.578 g=4.003\n",
      ">48, c1=-23.082, c2=-6.898 g=4.483\n",
      ">49, c1=-23.138, c2=-6.664 g=4.437\n",
      ">50, c1=-22.439, c2=-7.442 g=3.754\n",
      ">51, c1=-22.721, c2=-8.258 g=4.742\n",
      ">52, c1=-23.012, c2=-7.335 g=5.065\n",
      ">53, c1=-22.960, c2=-8.161 g=4.496\n",
      ">54, c1=-24.656, c2=-8.430 g=5.183\n",
      ">55, c1=-23.791, c2=-9.023 g=5.119\n",
      ">56, c1=-23.919, c2=-8.839 g=5.544\n",
      ">57, c1=-22.510, c2=-8.970 g=5.452\n",
      ">58, c1=-23.570, c2=-9.892 g=5.746\n",
      ">59, c1=-23.958, c2=-9.692 g=4.995\n",
      ">60, c1=-23.793, c2=-9.666 g=6.887\n",
      ">61, c1=-23.693, c2=-10.786 g=5.289\n",
      ">62, c1=-23.921, c2=-9.908 g=5.728\n",
      ">63, c1=-24.618, c2=-11.258 g=4.964\n",
      ">64, c1=-23.439, c2=-11.595 g=6.595\n",
      ">65, c1=-23.827, c2=-9.981 g=6.522\n",
      ">66, c1=-24.090, c2=-9.990 g=5.372\n",
      ">67, c1=-25.204, c2=-12.022 g=6.262\n",
      ">68, c1=-25.007, c2=-11.932 g=5.449\n",
      ">69, c1=-24.489, c2=-12.241 g=6.657\n",
      ">70, c1=-24.271, c2=-10.959 g=6.645\n",
      ">71, c1=-25.241, c2=-10.680 g=7.489\n",
      ">72, c1=-23.971, c2=-9.301 g=8.733\n",
      ">73, c1=-23.534, c2=-9.622 g=8.622\n",
      ">74, c1=-24.900, c2=-10.978 g=10.104\n",
      ">75, c1=-22.994, c2=-12.155 g=9.118\n",
      ">76, c1=-24.464, c2=-10.680 g=9.515\n",
      ">77, c1=-24.185, c2=-12.872 g=9.129\n",
      ">78, c1=-25.762, c2=-11.398 g=10.331\n",
      ">79, c1=-24.842, c2=-10.910 g=9.303\n",
      ">80, c1=-23.756, c2=-10.646 g=10.653\n",
      ">81, c1=-25.692, c2=-10.765 g=7.692\n",
      ">82, c1=-23.900, c2=-10.347 g=8.469\n",
      ">83, c1=-25.628, c2=-11.825 g=11.115\n",
      ">84, c1=-22.161, c2=-8.197 g=11.516\n",
      ">85, c1=-24.025, c2=-8.691 g=10.529\n",
      ">86, c1=-23.164, c2=-10.137 g=12.777\n",
      ">87, c1=-24.731, c2=-10.903 g=10.090\n",
      ">88, c1=-25.362, c2=-10.702 g=10.467\n",
      ">89, c1=-23.918, c2=-9.891 g=11.453\n",
      ">90, c1=-22.136, c2=-9.143 g=12.506\n",
      ">91, c1=-22.155, c2=-8.755 g=12.480\n",
      ">92, c1=-23.675, c2=-8.621 g=12.308\n",
      ">93, c1=-22.685, c2=-8.450 g=12.574\n",
      ">94, c1=-23.813, c2=-8.990 g=11.724\n",
      ">95, c1=-23.619, c2=-9.520 g=11.698\n",
      ">96, c1=-23.007, c2=-8.060 g=11.873\n",
      ">97, c1=-23.945, c2=-8.555 g=14.174\n",
      ">Saved: generated_plot_0097.png and model_0097.h5\n",
      ">98, c1=-22.753, c2=-6.499 g=11.973\n",
      ">99, c1=-22.363, c2=-8.612 g=10.592\n",
      ">100, c1=-22.919, c2=-7.623 g=9.864\n",
      ">101, c1=-23.550, c2=-7.918 g=10.810\n",
      ">102, c1=-24.152, c2=-5.845 g=13.767\n",
      ">103, c1=-22.360, c2=-8.611 g=8.558\n",
      ">104, c1=-23.109, c2=-8.155 g=12.062\n",
      ">105, c1=-23.187, c2=-5.005 g=10.580\n",
      ">106, c1=-21.539, c2=-6.945 g=9.589\n",
      ">107, c1=-22.874, c2=-4.675 g=11.064\n",
      ">108, c1=-21.884, c2=-9.415 g=12.471\n",
      ">109, c1=-22.432, c2=-6.306 g=11.007\n",
      ">110, c1=-23.307, c2=-4.444 g=8.803\n",
      ">111, c1=-21.256, c2=-4.963 g=10.069\n",
      ">112, c1=-23.256, c2=-5.119 g=6.394\n",
      ">113, c1=-22.021, c2=-5.789 g=7.413\n",
      ">114, c1=-22.688, c2=-4.159 g=11.785\n",
      ">115, c1=-22.751, c2=-0.502 g=7.759\n",
      ">116, c1=-19.890, c2=-5.557 g=6.053\n",
      ">117, c1=-20.492, c2=-4.401 g=8.131\n",
      ">118, c1=-22.054, c2=-2.537 g=2.539\n",
      ">119, c1=-22.697, c2=-6.771 g=2.908\n",
      ">120, c1=-22.271, c2=-3.858 g=0.036\n",
      ">121, c1=-21.887, c2=-6.868 g=2.985\n",
      ">122, c1=-22.080, c2=-5.470 g=-0.846\n",
      ">123, c1=-23.708, c2=-6.355 g=0.950\n",
      ">124, c1=-23.293, c2=-5.781 g=-0.429\n",
      ">125, c1=-22.506, c2=-6.510 g=-4.127\n",
      ">126, c1=-23.569, c2=-4.708 g=-0.386\n",
      ">127, c1=-24.786, c2=-1.866 g=-2.617\n",
      ">128, c1=-23.293, c2=-2.957 g=-4.729\n",
      ">129, c1=-23.770, c2=-2.157 g=-2.022\n",
      ">130, c1=-22.637, c2=-0.563 g=-5.032\n",
      ">131, c1=-21.825, c2=-4.352 g=-3.534\n",
      ">132, c1=-23.422, c2=-1.721 g=-5.749\n",
      ">133, c1=-24.090, c2=-5.317 g=-0.228\n",
      ">134, c1=-22.164, c2=-1.320 g=-1.206\n",
      ">135, c1=-23.559, c2=0.089 g=-4.300\n",
      ">136, c1=-22.299, c2=-0.305 g=-2.378\n",
      ">137, c1=-23.893, c2=-1.874 g=-0.118\n",
      ">138, c1=-21.384, c2=-1.143 g=-4.725\n",
      ">139, c1=-22.377, c2=-0.353 g=-1.381\n",
      ">140, c1=-21.005, c2=1.812 g=-3.660\n",
      ">141, c1=-18.770, c2=1.916 g=-3.897\n",
      ">142, c1=-20.010, c2=-1.801 g=-2.426\n",
      ">143, c1=-18.971, c2=-0.674 g=-2.346\n",
      ">144, c1=-21.296, c2=-0.725 g=-1.482\n",
      ">145, c1=-21.447, c2=2.560 g=-4.236\n",
      ">146, c1=-19.721, c2=1.111 g=-2.890\n",
      ">147, c1=-21.551, c2=1.923 g=-3.290\n",
      ">148, c1=-21.138, c2=0.048 g=-2.777\n",
      ">149, c1=-20.498, c2=1.545 g=-2.505\n",
      ">150, c1=-19.378, c2=2.991 g=-0.266\n",
      ">151, c1=-19.940, c2=4.059 g=-1.762\n",
      ">152, c1=-20.407, c2=6.930 g=-2.073\n",
      ">153, c1=-20.587, c2=2.332 g=-0.798\n",
      ">154, c1=-18.986, c2=2.513 g=-4.278\n",
      ">155, c1=-19.269, c2=2.595 g=-2.709\n",
      ">156, c1=-20.717, c2=0.806 g=-3.549\n",
      ">157, c1=-18.332, c2=1.453 g=-2.561\n",
      ">158, c1=-18.997, c2=4.663 g=-2.685\n",
      ">159, c1=-18.471, c2=3.702 g=-2.846\n",
      ">160, c1=-19.542, c2=4.294 g=-3.254\n",
      ">161, c1=-19.162, c2=2.799 g=-2.719\n",
      ">162, c1=-18.456, c2=3.918 g=-3.130\n",
      ">163, c1=-18.813, c2=3.123 g=-3.238\n",
      ">164, c1=-19.755, c2=3.582 g=-3.963\n",
      ">165, c1=-18.601, c2=2.688 g=-0.723\n",
      ">166, c1=-18.419, c2=3.232 g=-3.838\n",
      ">167, c1=-19.569, c2=4.828 g=-4.431\n",
      ">168, c1=-18.604, c2=4.835 g=-2.423\n",
      ">169, c1=-18.407, c2=6.886 g=-3.687\n",
      ">170, c1=-16.643, c2=5.867 g=-1.961\n",
      ">171, c1=-18.593, c2=5.026 g=-3.934\n",
      ">172, c1=-18.917, c2=3.866 g=-2.790\n",
      ">173, c1=-17.989, c2=4.539 g=-0.445\n",
      ">174, c1=-18.701, c2=6.773 g=-3.861\n",
      ">175, c1=-19.519, c2=5.173 g=-0.571\n",
      ">176, c1=-19.299, c2=3.707 g=-3.086\n",
      ">177, c1=-18.891, c2=4.214 g=-2.738\n",
      ">178, c1=-17.054, c2=2.218 g=-1.853\n",
      ">179, c1=-17.725, c2=3.670 g=-2.984\n",
      ">180, c1=-17.942, c2=-0.313 g=-2.782\n",
      ">181, c1=-18.456, c2=7.180 g=-1.744\n",
      ">182, c1=-18.389, c2=7.109 g=-2.173\n",
      ">183, c1=-17.283, c2=6.400 g=-2.909\n",
      ">184, c1=-16.992, c2=4.550 g=-3.963\n",
      ">185, c1=-16.862, c2=3.430 g=-2.483\n",
      ">186, c1=-15.658, c2=5.329 g=-2.261\n",
      ">187, c1=-16.638, c2=7.593 g=-1.542\n",
      ">188, c1=-17.683, c2=7.803 g=-1.919\n",
      ">189, c1=-17.636, c2=7.147 g=-1.888\n",
      ">190, c1=-17.052, c2=8.787 g=-3.607\n",
      ">191, c1=-15.893, c2=4.627 g=-3.804\n",
      ">192, c1=-17.182, c2=5.827 g=0.017\n",
      ">193, c1=-14.470, c2=7.639 g=-2.357\n",
      ">194, c1=-16.286, c2=5.989 g=-2.394\n",
      ">Saved: generated_plot_0194.png and model_0194.h5\n",
      ">195, c1=-15.341, c2=5.194 g=-1.507\n",
      ">196, c1=-13.768, c2=7.095 g=-3.009\n",
      ">197, c1=-16.240, c2=6.918 g=-1.515\n",
      ">198, c1=-14.481, c2=4.983 g=0.330\n",
      ">199, c1=-13.907, c2=5.729 g=-0.119\n",
      ">200, c1=-16.628, c2=1.988 g=-1.885\n"
     ]
    }
   ],
   "source": [
    "# train the generator and critic\n",
    "\n",
    "def train(g_model, c_model, gan_model, dataset, latent_dim, n_epochs=10, n_batch=64, n_critic=5):\n",
    "\n",
    "    # calculate the number of batches per training epoch\n",
    "    bat_per_epo = int(dataset.shape[0] / n_batch)\n",
    "    \n",
    "    # calculate the number of training iterations\n",
    "    n_steps = bat_per_epo * n_epochs\n",
    "    \n",
    "    # calculate the size of half a batch of samples\n",
    "    half_batch = int(n_batch / 2)\n",
    "    \n",
    "    # lists for keeping track of loss\n",
    "    c1_hist, c2_hist, g_hist = list(), list(), list()\n",
    "    \n",
    "    # manually enumerate epochs\n",
    "    for i in range(n_steps):\n",
    "        \n",
    "        # update the critic more than the generator\n",
    "        c1_tmp, c2_tmp = list(), list()\n",
    "        for _ in range(n_critic):\n",
    "            \n",
    "            # get randomly selected 'real' samples\n",
    "            X_real, y_real = generate_real_samples(dataset, half_batch)\n",
    "            \n",
    "            # update critic model weights\n",
    "            c_loss1 = c_model.train_on_batch(X_real, y_real)\n",
    "            c1_tmp.append(c_loss1)\n",
    "            \n",
    "            # generate 'fake' examples\n",
    "            X_fake, y_fake = generate_fake_samples(g_model, latent_dim, half_batch)\n",
    "            \n",
    "            # update critic model weights\n",
    "            c_loss2 = c_model.train_on_batch(X_fake, y_fake)\n",
    "            c2_tmp.append(c_loss2)\n",
    "            \n",
    "        # store critic loss\n",
    "        c1_hist.append(mean(c1_tmp))\n",
    "        c2_hist.append(mean(c2_tmp))\n",
    "        \n",
    "        # prepare points in latent space as input for the generator\n",
    "        X_gan = generate_latent_points(latent_dim, n_batch)\n",
    "        \n",
    "        # create inverted labels for the fake samples\n",
    "        y_gan = -ones((n_batch, 1))\n",
    "        \n",
    "        # update the generator via the critic's error\n",
    "        g_loss = gan_model.train_on_batch(X_gan, y_gan)\n",
    "        g_hist.append(g_loss)\n",
    "        \n",
    "        # summarize loss on this batch\n",
    "        print('>%d, c1=%.3f, c2=%.3f g=%.3f' % (i+1, c1_hist[-1], c2_hist[-1], g_loss))\n",
    "        \n",
    "        # evaluate the model performance every 'epoch'\n",
    "        if (i+1) % bat_per_epo == 0:\n",
    "            summarize_performance(i, g_model, latent_dim)\n",
    "            \n",
    "    # line plots of loss\n",
    "    plot_history(c1_hist, c2_hist, g_hist)\n",
    "\n",
    "# size of the latent space\n",
    "latent_dim = 50\n",
    "\n",
    "# create the critic\n",
    "critic = define_critic()\n",
    "\n",
    "# create the generator\n",
    "generator = define_generator(latent_dim)\n",
    "\n",
    "# create the gan\n",
    "gan_model = define_gan(generator, critic)\n",
    "\n",
    "# load image data\n",
    "dataset = load_real_samples()\n",
    "print(dataset.shape)\n",
    "\n",
    "# train model\n",
    "train(generator, critic, gan_model, dataset, latent_dim)"
   ]
  },
  {
   "attachments": {
    "generated_plot_0097.png": {
     "image/png": "[encoded data removed]"
    }
   },
   "cell_type": "markdown",
   "metadata": {},
   "source": [
    "![generated_plot_0097.png](attachment:generated_plot_0097.png)"
   ]
  },
  {
   "attachments": {
    "generated_plot_0194.png": {
     "image/png": "[encoded data removed]"
    }
   },
   "cell_type": "markdown",
   "metadata": {},
   "source": [
    "![generated_plot_0194.png](attachment:generated_plot_0194.png)"
   ]
  }
 ],
 "metadata": {
  "kernelspec": {
   "display_name": "Python 3",
   "language": "python",
   "name": "python3"
  },
  "language_info": {
   "codemirror_mode": {
    "name": "ipython",
    "version": 3
   },
   "file_extension": ".py",
   "mimetype": "text/x-python",
   "name": "python",
   "nbconvert_exporter": "python",
   "pygments_lexer": "ipython3",
   "version": "3.7.4"
  }
 },
 "nbformat": 4,
 "nbformat_minor": 2
}
